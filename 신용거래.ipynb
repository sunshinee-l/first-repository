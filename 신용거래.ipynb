{
  "cells": [
    {
      "cell_type": "code",
      "source": [
        "import pandas as pd\n",
        "import numpy as np\n",
        "import seaborn as sns"
      ],
      "metadata": {
        "id": "mdLb5OUlldBP"
      },
      "execution_count": null,
      "outputs": []
    },
    {
      "cell_type": "code",
      "source": [
        "cc_df = pd.read_csv('fraud.csv')"
      ],
      "metadata": {
        "id": "FGelgF9DlfjP"
      },
      "execution_count": null,
      "outputs": []
    },
    {
      "cell_type": "code",
      "source": [
        "pd.set_option('display.max_columns', 50)"
      ],
      "metadata": {
        "id": "r4wDBOiPlwGJ"
      },
      "execution_count": null,
      "outputs": []
    },
    {
      "cell_type": "code",
      "source": [
        "cc_df.head()"
      ],
      "metadata": {
        "id": "7uF_D-d8lxPF"
      },
      "execution_count": null,
      "outputs": []
    },
    {
      "cell_type": "code",
      "source": [
        "cc_df.info()"
      ],
      "metadata": {
        "id": "Z1rI0-V2lyTF"
      },
      "execution_count": null,
      "outputs": []
    },
    {
      "cell_type": "code",
      "source": [
        "cc_df.describe()"
      ],
      "metadata": {
        "id": "o2nd8EVal0Zl"
      },
      "execution_count": null,
      "outputs": []
    },
    {
      "cell_type": "code",
      "source": [
        "cc_df['merchant'].unique()"
      ],
      "metadata": {
        "id": "KgAlzQK3l1u2"
      },
      "execution_count": null,
      "outputs": []
    },
    {
      "cell_type": "code",
      "source": [
        "cc_df['job'].unique()"
      ],
      "metadata": {
        "id": "hbcqB9dAl3ll"
      },
      "execution_count": null,
      "outputs": []
    },
    {
      "cell_type": "code",
      "source": [
        "cc_df['cc_num'].nunique()"
      ],
      "metadata": {
        "id": "Gh99nrO1l482"
      },
      "execution_count": null,
      "outputs": []
    },
    {
      "cell_type": "code",
      "source": [
        "cc_df.drop(['merchant','first','last','street','city','state','zip','job','trans_num','unix_time'], axis = 1, inplace= True)\n",
        "cc_df.head(5)"
      ],
      "metadata": {
        "id": "DWxhWUACmKgO"
      },
      "execution_count": null,
      "outputs": []
    },
    {
      "cell_type": "code",
      "source": [
        "# cc_num 컬럼의 값을 기준으로 정렬합니다.\n",
        "cc_df.sort_values('cc_num')"
      ],
      "metadata": {
        "id": "-M19DYnOmMb3"
      },
      "execution_count": null,
      "outputs": []
    },
    {
      "cell_type": "code",
      "source": [
        "# z-score 계산을 위한 실습용 데이터입니다.\n",
        "\n",
        "temp = pd.DataFrame({'a': [10,20,30,20,10,200], 'b': [100,300,200,150,250,200], 'c': [10, 500, 20, 250, 25, 200]})"
      ],
      "metadata": {
        "id": "tABelDfKmPCw"
      },
      "execution_count": null,
      "outputs": []
    },
    {
      "cell_type": "code",
      "source": [
        "# temp 데이터의 컬럼별 평균을 계산합니다.\n",
        "temp.mean()"
      ],
      "metadata": {
        "id": "GVLubhc5mRdW"
      },
      "execution_count": null,
      "outputs": []
    },
    {
      "cell_type": "code",
      "source": [
        "temp.std()"
      ],
      "metadata": {
        "id": "TVxEofglmeNN"
      },
      "execution_count": null,
      "outputs": []
    },
    {
      "cell_type": "code",
      "source": [
        "# 각각의 데이터에 대해 a 컬럼의 z-score를 계산합니다.\n",
        "# (data - mean) / std\n",
        "(temp['a'] - 48.33) / 74.67"
      ],
      "metadata": {
        "id": "BA1H7kVymf1d"
      },
      "execution_count": null,
      "outputs": []
    },
    {
      "cell_type": "code",
      "source": [
        "# Q. 각각의 데이터에 대해 b 컬럼의 z-score를 계산합니다.\n",
        "(temp['b'] - 200.00) /  70.71"
      ],
      "metadata": {
        "id": "-Nk_nF68mh8-"
      },
      "execution_count": null,
      "outputs": []
    },
    {
      "cell_type": "code",
      "source": [
        "# Q. 각각의 데이터에 대해 c 컬럼의 z-score를 계산합니다.\n",
        "(temp['c'] - 167.50) / 192.50"
      ],
      "metadata": {
        "id": "DqxkPuOAmkln"
      },
      "execution_count": null,
      "outputs": []
    },
    {
      "cell_type": "code",
      "source": [
        "# cc_num 컬럼의 값마다 데이터 개수를 계산합니다.\n",
        "cc_df['cc_num'].value_counts()"
      ],
      "metadata": {
        "id": "FmsLe9Rzmntv"
      },
      "execution_count": null,
      "outputs": []
    },
    {
      "cell_type": "code",
      "source": [
        "# cc_num 컬럼의 값마다 amt의 평균, 표준편차를 계산하여 amt_info에 저장합니다.\n",
        "amt_info = cc_df.groupby('cc_num')['amt'].agg(['mean','std']).reset_index()"
      ],
      "metadata": {
        "id": "hu2chy1wmv7n"
      },
      "execution_count": null,
      "outputs": []
    },
    {
      "cell_type": "code",
      "source": [
        "amt_info.to_pickle('./amt_info.pkl')"
      ],
      "metadata": {
        "id": "6M-H-T9hmx6N"
      },
      "execution_count": null,
      "outputs": []
    },
    {
      "cell_type": "code",
      "source": [
        "# Q. cc_num 컬럼을 기준으로, cc_df와 amt_info 데이터를 합쳐서 cc_df에 저장합니다.\n",
        "# (left merge를 수행합니다.)\n",
        "\n",
        "cc_df = cc_df.merge(amt_info, how='left')\n",
        "cc_df.head(5)"
      ],
      "metadata": {
        "id": "6Az-vJjDm1Kf"
      },
      "execution_count": null,
      "outputs": []
    },
    {
      "cell_type": "code",
      "source": [
        "# Q. 결제금액(amt)의 z-score를 계산하여 amt_z 컬럼에 저장합니다.\n",
        "# 평균: mean, 표준편차: std\n",
        "\n",
        "cc_df['amt_z'] = (cc_df['amt'] - cc_df['mean']) / cc_df['std']"
      ],
      "metadata": {
        "id": "x6rLy3xSnAF_"
      },
      "execution_count": null,
      "outputs": []
    },
    {
      "cell_type": "code",
      "source": [
        "# 사기 거래 데이터(is_fraud=1)를 확인합니다.\n",
        "\n",
        "cc_df[cc_df['is_fraud'] == 1]"
      ],
      "metadata": {
        "id": "6BmoF8GPnB6W"
      },
      "execution_count": null,
      "outputs": []
    },
    {
      "cell_type": "code",
      "source": [
        "# z-score 계산이 완료되었으니 mean, std 컬럼을 제거합니다.\n",
        "\n",
        "cc_df.drop(['mean','std'], axis = 1, inplace = True)\n",
        "cc_df.head(5)"
      ],
      "metadata": {
        "id": "fngEz1qenDSl"
      },
      "execution_count": null,
      "outputs": []
    },
    {
      "cell_type": "code",
      "source": [
        "# cc_num, category 컬럼의 값마다 결제금액(amt)의 평균, 표준편차를 계산하여 cat_info에 저장합니다.\n",
        "\n",
        "cat_info = cc_df.groupby(['cc_num','category'])['amt'].agg(['mean','std']).reset_index()"
      ],
      "metadata": {
        "id": "6nGlVVernHWg"
      },
      "execution_count": null,
      "outputs": []
    },
    {
      "cell_type": "code",
      "source": [
        "cat_info.to_pickle('./cat_info.pkl')"
      ],
      "metadata": {
        "id": "oUGwMSq3nJAG"
      },
      "execution_count": null,
      "outputs": []
    },
    {
      "cell_type": "code",
      "source": [
        "cc_df = cc_df.merge(cat_info, how ='left', on='cc_num')\n",
        "cc_df.head(5)"
      ],
      "metadata": {
        "id": "v_ycAqn_ptWO"
      },
      "execution_count": null,
      "outputs": []
    },
    {
      "cell_type": "code",
      "source": [
        "# Q. 결제금액(amt)의 z-score를 계산하여 cat_amt_z 컬럼에 저장합니다.\n",
        "# 평균: mean, 표준편차: std\n",
        "cc_df['cat_amt_z'] = (cc_df['amt'] - cc_df['mean']) / cc_df['std']"
      ],
      "metadata": {
        "id": "CENATvbIpvJ9"
      },
      "execution_count": null,
      "outputs": []
    },
    {
      "cell_type": "code",
      "source": [
        "# z-score 계산이 완료되었으니 mean, std 컬럼을 제거합니다.\n",
        "\n",
        "cc_df.drop(['mean','std'], axis =1 , inplace = True)"
      ],
      "metadata": {
        "id": "ZIzs7BGQp5ol"
      },
      "execution_count": null,
      "outputs": []
    },
    {
      "cell_type": "code",
      "source": [
        "cc_df.head()"
      ],
      "metadata": {
        "id": "yBSmDYMjp78u"
      },
      "execution_count": null,
      "outputs": []
    },
    {
      "cell_type": "code",
      "source": [
        "# Q. trans_date_trans_time 컬럼에서 시간 값을 추출하여 hour 컬럼에 저장합니다.\n",
        "# (힌트: datetime 자료형을 이용합니다.)\n",
        "\n",
        "cc_df['trans_date_trans_time'] = pd.to_datetime(cc_df['trans_date_trans_time'])\n",
        "cc_df['hour'] = cc_df['trans_date_trans_time'].dt.hour"
      ],
      "metadata": {
        "id": "7lV8g-gVp9VX"
      },
      "execution_count": null,
      "outputs": []
    },
    {
      "cell_type": "code",
      "source": [
        "# 결제시간을 morning, afternoon, night, evening으로 분류하기 위해 함수를 정의합니다.\n",
        "\n",
        "def hour_func(x):\n",
        "    if (x >= 6) & (x < 12):\n",
        "        return 'morning'\n",
        "    elif (x >= 12) & (x < 18):\n",
        "        return 'afternoon'\n",
        "    elif (x >= 18) & (x < 23):\n",
        "        return 'night'\n",
        "    else:\n",
        "        return 'evening'"
      ],
      "metadata": {
        "id": "znHfS0hUqBGe"
      },
      "execution_count": null,
      "outputs": []
    },
    {
      "cell_type": "code",
      "source": [
        "# Q. hour 컬럼에 hour_func 함수를 적용한 값을 hour_cat 컬럼에 저장합니다.\n",
        "\n",
        "cc_df['hour_cat'] = cc_df['hour'].apply(hour_func)"
      ],
      "metadata": {
        "id": "F_RG51S6qC11"
      },
      "execution_count": null,
      "outputs": []
    },
    {
      "cell_type": "code",
      "source": [
        "# Q. 시간대별로 데이터 수를 계산하여 출력합니다.\n",
        "\n",
        "cc_df['hour'].value_counts()"
      ],
      "metadata": {
        "id": "xXRmxfluqEhH"
      },
      "execution_count": null,
      "outputs": []
    },
    {
      "cell_type": "code",
      "source": [
        "# cc_num 컬럼의 값마다 amt 컬럼의 데이터 수를 계산하여 all_cnt 변수로 저장합니다.\n",
        "\n",
        "all_cnt = cc_df.groupby('cc_num')['amt'].count().reset_index()"
      ],
      "metadata": {
        "id": "-DVH0ZiTqGj4"
      },
      "execution_count": null,
      "outputs": []
    },
    {
      "cell_type": "code",
      "source": [
        "# cc_num, hour_cat 컬럼의 값마다 amt 컬럼의 데이터 수를 계산하여 hour_cnt 변수로 저장합니다.\n",
        "\n",
        "hour_cnt = cc_df.groupby(['cc_num','hour_cat'])['amt'].count().reset_index()"
      ],
      "metadata": {
        "id": "IVCXI9W_qIId"
      },
      "execution_count": null,
      "outputs": []
    },
    {
      "cell_type": "code",
      "source": [
        "all_cnt.head()"
      ],
      "metadata": {
        "id": "wRrbGSH0qJ6G"
      },
      "execution_count": null,
      "outputs": []
    },
    {
      "cell_type": "code",
      "source": [
        "hour_cnt.head()"
      ],
      "metadata": {
        "id": "lgv1GIssqLtu"
      },
      "execution_count": null,
      "outputs": []
    },
    {
      "cell_type": "code",
      "source": [
        "# Q. cc_num 컬럼을 기준으로 hour_cnt와 all_cnt를 합칩니다.\n",
        "# (hour_cnt에서 left merge를 수행합니다.)\n",
        "\n",
        "hour_cnt = hour_cnt.merge(all_cnt, on = 'cc_num' , how='left')"
      ],
      "metadata": {
        "id": "cHBNA4yUqNBm"
      },
      "execution_count": null,
      "outputs": []
    },
    {
      "cell_type": "code",
      "source": [
        "hour_cnt.head()"
      ],
      "metadata": {
        "id": "IEoRoEFFqOYf"
      },
      "execution_count": null,
      "outputs": []
    },
    {
      "cell_type": "code",
      "source": [
        "# Q. amt_x와 amt_y 컬럼의 이름을 각각 hour_cnt, total_cnt로 변경합니다.\n",
        "\n",
        "hour_cnt = hour_cnt.rename(columns= {'amt_x' : 'hour_cnt','amt_y':'total_cnt' })"
      ],
      "metadata": {
        "id": "Ktd6cMVPqPjl"
      },
      "execution_count": null,
      "outputs": []
    },
    {
      "cell_type": "code",
      "source": [
        "hour_cnt.head()"
      ],
      "metadata": {
        "id": "UxtQ1pWIqRUM"
      },
      "execution_count": null,
      "outputs": []
    },
    {
      "cell_type": "code",
      "source": [
        "# Q. 전체 거래 건수(total_cnt)에 대한 시간대별 거래 건수(hour_cnt)의 비율을 계산하여\n",
        "# hour_perc 컬럼에 저장합니다.\n",
        "hour_cnt['hour_perc'] = hour_cnt['total_cnt'] / hour_cnt['hour_cnt']"
      ],
      "metadata": {
        "id": "XqKblXOkqSpg"
      },
      "execution_count": null,
      "outputs": []
    },
    {
      "cell_type": "code",
      "source": [
        "hour_cnt = hour_cnt[['cc_num','hour_cat','hour_perc']]"
      ],
      "metadata": {
        "id": "8DdNJ_bYqUqX"
      },
      "execution_count": null,
      "outputs": []
    },
    {
      "cell_type": "code",
      "source": [
        "hour_cnt.to_pickle('./hour_cnt.pkl')"
      ],
      "metadata": {
        "id": "wlbjudv5qXD9"
      },
      "execution_count": null,
      "outputs": []
    },
    {
      "cell_type": "code",
      "source": [
        "# Q. cc_num, hour_cat 컬럼을 기준으로 cc_df와 hour_cnt 데이터를 합칩니다.\n",
        "# (cc_df에서 left merge를 수행합니다.)\n",
        "\n",
        "cc_df.merge(hour_cnt, on= ['cc_num', 'hour_cat'], how='left')"
      ],
      "metadata": {
        "id": "BDZZSiLVqZge"
      },
      "execution_count": null,
      "outputs": []
    },
    {
      "cell_type": "code",
      "source": [
        "cc_df.head()"
      ],
      "metadata": {
        "id": "lbMoohwUqbCH"
      },
      "execution_count": null,
      "outputs": []
    },
    {
      "cell_type": "code",
      "source": [
        "# 시간 관련 feature 분석이 완료되었으므로 불필요해진 컬럼들을 제거합니다.\n",
        "\n",
        "cc_df.drop(['trans_date_trans_time', 'hour', 'hour_cat'], axis =1 , inplace = True)\n",
        "cc_df.head(10)"
      ],
      "metadata": {
        "id": "Sj-JhQHsqcju"
      },
      "execution_count": null,
      "outputs": []
    },
    {
      "cell_type": "code",
      "source": [
        "!pip install geopy"
      ],
      "metadata": {
        "id": "C9qn7gNSrPeX"
      },
      "execution_count": null,
      "outputs": []
    },
    {
      "cell_type": "code",
      "source": [
        "from geopy.distance import distance"
      ],
      "metadata": {
        "id": "iufnMkP_rP5u"
      },
      "execution_count": null,
      "outputs": []
    },
    {
      "cell_type": "code",
      "source": [
        "# 이렇게 위도와 경도 값으로 두 지점 사이의 거리를 구할 수 있습니다.\n",
        "\n",
        "distance((48.8878, -118.2105), (49.159047, -118.186462)).km"
      ],
      "metadata": {
        "id": "lFa1sCh6rRO2"
      },
      "execution_count": null,
      "outputs": []
    },
    {
      "cell_type": "code",
      "source": [
        "# 고객의 위치와 상점의 위치 사이의 거리를 계산하여 distance 컬럼에 저장합니다.\n",
        "# (모든 데이터가 계산되므로 실행 시간이 오래 걸릴 수 있습니다.)\n",
        "\n",
        "cc_df['distance'] = cc_df.apply(lambda x: distance((x['lat'], x['long']), (x['merch_lat'], x['merch_long'])).km, axis = 1)"
      ],
      "metadata": {
        "id": "nwdBDu9BrSot"
      },
      "execution_count": null,
      "outputs": []
    },
    {
      "cell_type": "code",
      "source": [
        "from datetime import datetime"
      ],
      "metadata": {
        "id": "8_wBN4CMrVdf"
      },
      "execution_count": null,
      "outputs": []
    },
    {
      "cell_type": "code",
      "source": [
        "# 데이터 10000개만 계산해도 시간이 이렇게 걸립니다.\n",
        "\n",
        "start_time =  datetime.now()\n",
        "cc_df.head(10000).apply(lambda x: distance((x['lat'], x['long']), (x['merch_lat'], x['merch_long'])).km, axis = 1)\n",
        "datetime.now() - start_time"
      ],
      "metadata": {
        "id": "px1Oo4HqrW9f"
      },
      "execution_count": null,
      "outputs": []
    },
    {
      "cell_type": "code",
      "source": [
        "cc_df.head()"
      ],
      "metadata": {
        "id": "eO2z7yqjrYsy"
      },
      "execution_count": null,
      "outputs": []
    },
    {
      "cell_type": "code",
      "source": [
        "# Q. cc_num 컬럼의 값마다 distance의 평균, 표준편차를 계산하여 dist_info 변수에 저장합니다.  qq\n",
        "\n",
        "dist_info = cc_df.groupby('cc_num')['distance'],agg(['mean','std']).reset_index()"
      ],
      "metadata": {
        "id": "FiBpnB1VrnDm"
      },
      "execution_count": null,
      "outputs": []
    },
    {
      "cell_type": "code",
      "source": [
        "dist_info.to_pickle('./dist_info.pkl')"
      ],
      "metadata": {
        "id": "YlPn-fOHrZyO"
      },
      "execution_count": null,
      "outputs": []
    },
    {
      "cell_type": "code",
      "source": [
        "# Q. cc_num 컬럼을 기준으로 cc_df와 dist_info 데이터를 합칩니다.\n",
        "# (cc_df에서 left merge를 수행합니다.)\n",
        "\n",
        "cc_df = cc_df.merge(dist_info, on = 'cc_num', how='left')"
      ],
      "metadata": {
        "id": "-vxqk7CHrnxk"
      },
      "execution_count": null,
      "outputs": []
    },
    {
      "cell_type": "code",
      "source": [
        "# Q. distance 값의 z-score를 계산하여 dist_z 컬럼에 저장합니다.\n",
        "\n",
        "cc_df['dist_z'] = (cc_df['distance'] - cc_df['mean']) / cc_df['std']"
      ],
      "metadata": {
        "id": "jNdiaptNrpZg"
      },
      "execution_count": null,
      "outputs": []
    },
    {
      "cell_type": "code",
      "source": [
        "# 불필요해진 컬럼들을 제거합니다.\n",
        "\n",
        "cc_df.drop(['lat','long','merch_lat','merch_long','mean','std'], axis = 1, inplace = True)"
      ],
      "metadata": {
        "id": "fjc5v9IArrtm"
      },
      "execution_count": null,
      "outputs": []
    },
    {
      "cell_type": "code",
      "source": [
        "cc_df"
      ],
      "metadata": {
        "id": "quxno81krt2s"
      },
      "execution_count": null,
      "outputs": []
    },
    {
      "cell_type": "code",
      "source": [
        "# Q. dob 컬럼에서 연도 값만 추출하여 dob 컬럼에 저장합니다.\n",
        "\n",
        "cc_df['dob'] = pd.to_datetime(cc_df['dob']).dt.year"
      ],
      "metadata": {
        "id": "juVNm0KatvSh"
      },
      "execution_count": null,
      "outputs": []
    },
    {
      "cell_type": "code",
      "source": [
        "# 범주형 컬럼 'category'에 몇 종류의 값이 있는지 확인해봅시다.\n",
        "\n",
        "cc_df['category'].nunique()"
      ],
      "metadata": {
        "id": "f10emxAItzXG"
      },
      "execution_count": null,
      "outputs": []
    },
    {
      "cell_type": "code",
      "source": [
        "# Q. cc_df의 범주형 데이터에 원-핫 인코딩을 적용합니다.\n",
        "# (drop_first 옵션은 True로 설정합니다.)\n",
        "\n",
        "cc_df = pd.get_dummies(cc_df, drop_first = True)"
      ],
      "metadata": {
        "id": "RjtVkJiVt1WN"
      },
      "execution_count": null,
      "outputs": []
    },
    {
      "cell_type": "code",
      "source": [
        "cc_df.head()"
      ],
      "metadata": {
        "id": "8hKl5TBAt2vA"
      },
      "execution_count": null,
      "outputs": []
    },
    {
      "cell_type": "code",
      "source": [
        "# 이제 불필요해진 cc_num 컬럼을 제거합니다.\n",
        "\n",
        "cc_df.drop('cc_num', axis = 1, inplace = True)"
      ],
      "metadata": {
        "id": "p_7XxfjKt4IA"
      },
      "execution_count": null,
      "outputs": []
    }
  ],
  "metadata": {
    "colab": {
      "name": "Colab 시작하기",
      "toc_visible": true,
      "provenance": []
    },
    "kernelspec": {
      "display_name": "Python 3",
      "name": "python3"
    }
  },
  "nbformat": 4,
  "nbformat_minor": 0
}