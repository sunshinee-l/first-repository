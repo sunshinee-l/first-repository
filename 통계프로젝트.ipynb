{
  "cells": [
    {
      "cell_type": "code",
      "source": [
        "import pandas as pd\n",
        "import numpy as np\n",
        "\n",
        "import seaborn as sns\n",
        "from sklearn.linear_model import LinearRegression\n",
        "from sklearn.metrics import r2_score\n",
        "from scipy import stats\n",
        "\n",
        "import warnings\n",
        "warnings.filterwarnings('ignore')\n",
        "\n",
        "import matplotlib.pyplot as plt\n",
        "\n",
        "# 한글 폰트 설정\n",
        "plt.rc('font', family='NanumBarunGothic')\n"
      ],
      "metadata": {
        "id": "sFd4zjTl9O8v"
      },
      "execution_count": 1,
      "outputs": []
    },
    {
      "cell_type": "code",
      "source": [
        "# A/B 테스트 데이터 생성\n",
        "np.random.seed(404)\n",
        "\n",
        "# A그룹 (기존 디자인): 전환율 12%\n",
        "n_a = 500\n",
        "conversion_rate_a = 0.12\n",
        "conversions_a = np.random.binomial(1, conversion_rate_a, n_a)\n",
        "\n",
        "# B그룹 (새 디자인): 전환율 15%\n",
        "n_b = 500\n",
        "conversion_rate_b = 0.15\n",
        "conversions_b = np.random.binomial(1, conversion_rate_b, n_b)\n",
        "\n",
        "# 데이터프레임 생성\n",
        "ab_test_data = pd.DataFrame({\n",
        "    'group': ['A']*n_a + ['B']*n_b,\n",
        "    'user_id': range(1, n_a + n_b + 1),\n",
        "    'converted': np.concatenate([conversions_a, conversions_b])\n",
        "})\n",
        "\n",
        "print(\"🧪 A/B 테스트 데이터\")\n",
        "print(f\"A그룹 사용자 수: {n_a}명\")\n",
        "print(f\"B그룹 사용자 수: {n_b}명\")\n",
        "print(\"\\n그룹별 전환율:\")\n",
        "conversion_summary = ab_test_data.groupby('group')['converted'].agg(['count', 'sum', 'mean'])\n",
        "conversion_summary.columns = ['총_사용자수', '전환_사용자수', '전환율']\n",
        "print(conversion_summary)\n"
      ],
      "metadata": {
        "colab": {
          "base_uri": "https://localhost:8080/"
        },
        "id": "fIveEcBiDpOu",
        "outputId": "688c79c9-f538-4fff-f5ca-cb6e6ff52ef2"
      },
      "execution_count": 2,
      "outputs": [
        {
          "output_type": "stream",
          "name": "stdout",
          "text": [
            "🧪 A/B 테스트 데이터\n",
            "A그룹 사용자 수: 500명\n",
            "B그룹 사용자 수: 500명\n",
            "\n",
            "그룹별 전환율:\n",
            "       총_사용자수  전환_사용자수    전환율\n",
            "group                        \n",
            "A         500       60  0.120\n",
            "B         500       56  0.112\n"
          ]
        }
      ]
    },
    {
      "cell_type": "code",
      "source": [
        "#1-1\n",
        "p_a = conversions_a.mean()\n",
        "\n",
        "# B그룹 전환율 계산\n",
        "p_b = conversions_b.mean()\n",
        "\n",
        "# A그룹 표준오차 계산\n",
        "se_a = np.sqrt(p_a * (1 - p_a) / n_a)\n",
        "\n",
        "# B그룹 표준오차 계산\n",
        "se_b = np.sqrt(p_b * (1 - p_b) / n_b)\n",
        "\n",
        "print(f\"A그룹 전환율: {p_a:.3f} ± {se_a:.3f}\")\n",
        "print(f\"B그룹 전환율: {p_b:.3f} ± {se_b:.3f}\")\n"
      ],
      "metadata": {
        "colab": {
          "base_uri": "https://localhost:8080/"
        },
        "id": "y-1PZD3wDsEu",
        "outputId": "881e9e90-a601-4b08-ae0b-feb85e2ff63e"
      },
      "execution_count": 3,
      "outputs": [
        {
          "output_type": "stream",
          "name": "stdout",
          "text": [
            "A그룹 전환율: 0.120 ± 0.015\n",
            "B그룹 전환율: 0.112 ± 0.014\n"
          ]
        }
      ]
    },
    {
      "cell_type": "code",
      "source": [
        "#1-2\n",
        "# TODO: 95% 신뢰구간용 z값 설정\n",
        "z_score = 1.96  # 95% 신뢰수준에서 z값\n",
        "\n",
        "# TODO: A그룹 신뢰구간 하한 계산\n",
        "ci_a_lower = p_a - z_score * se_a\n",
        "\n",
        "# TODO: A그룹 신뢰구간 상한 계산\n",
        "ci_a_upper = p_a + z_score * se_a\n",
        "\n",
        "\n",
        "print(f\"A그룹 95% 신뢰구간: [{ci_a_lower:.3f}, {ci_a_upper:.3f}]\")\n"
      ],
      "metadata": {
        "colab": {
          "base_uri": "https://localhost:8080/"
        },
        "id": "_z5b5PdiEwmO",
        "outputId": "69c625c8-5c0e-4862-e9ba-875d4b1f5b85"
      },
      "execution_count": 4,
      "outputs": [
        {
          "output_type": "stream",
          "name": "stdout",
          "text": [
            "A그룹 95% 신뢰구간: [0.092, 0.148]\n"
          ]
        }
      ]
    },
    {
      "cell_type": "code",
      "source": [
        "#1-3\n",
        "# TODO: B그룹 신뢰구간 하한 계산\n",
        "ci_b_lower = p_b - z_score * se_b\n",
        "\n",
        "# TODO: B그룹 신뢰구간 상한 계산\n",
        "ci_b_upper = p_b + z_score * se_b\n",
        "\n",
        "print(f\"B그룹 95% 신뢰구간: [{ci_b_lower:.3f}, {ci_b_upper:.3f}]\")\n"
      ],
      "metadata": {
        "colab": {
          "base_uri": "https://localhost:8080/"
        },
        "id": "NuUXYlUDE5Xh",
        "outputId": "30d5277c-ea8f-483d-8581-b6d992a9fc43"
      },
      "execution_count": 5,
      "outputs": [
        {
          "output_type": "stream",
          "name": "stdout",
          "text": [
            "B그룹 95% 신뢰구간: [0.084, 0.140]\n"
          ]
        }
      ]
    },
    {
      "cell_type": "code",
      "source": [
        "import matplotlib.pyplot as plt\n",
        "from matplotlib import rcParams\n",
        "\n",
        "rcParams['font.family'] = 'DejaVu Sans'\n",
        "rcParams['axes.unicode_minus'] = False\n",
        "\n",
        "# TODO: 그래프 그리기\n",
        "plt.figure(figsize=(10, 6))\n",
        "\n",
        "# TODO: 그룹명과 전환율 리스트 만들기\n",
        "groups = ['A group', 'B group']\n",
        "rates = [p_a, p_b]\n",
        "\n",
        "# TODO: 오차막대 크기 계산 (z_score * 표준오차)\n",
        "errors = [z_score * se_a, z_score * se_b]\n",
        "\n",
        "# TODO: 막대그래프 그리기\n",
        "# 힌트: plt.bar(x, height, yerr=오차막대, capsize=10, alpha=0.7)\n",
        "plt.bar(groups, rates, yerr=errors, capsize=10, alpha=0.7)\n",
        "\n",
        "plt.ylabel('Conversion Rate')\n",
        "plt.title('Conversion Rates with 95% Confidence Intervals')\n",
        "plt.show()\n",
        "\n"
      ],
      "metadata": {
        "colab": {
          "base_uri": "https://localhost:8080/",
          "height": 545
        },
        "id": "IvJ_0Ln2FQTs",
        "outputId": "aace9d89-f9de-4984-92ba-7533124a53a8"
      },
      "execution_count": 12,
      "outputs": [
        {
          "output_type": "display_data",
          "data": {
            "text/plain": [
              "<Figure size 1000x600 with 1 Axes>"
            ],
            "image/png": "[encoded data removed]"
          },
          "metadata": {}
        }
      ]
    },
    {
      "cell_type": "code",
      "source": [
        "# TODO: 전환율 차이 계산 (B - A)\n",
        "diff = p_b - p_a\n",
        "\n",
        "# TODO: 차이의 표준오차 계산\n",
        "# 힌트: 두 독립 비율 차이의 표준오차는 sqrt(se_a^2 + se_b^2)\n",
        "se_diff = np.sqrt(se_a**2 + se_b**2)\n",
        "\n",
        "print(f\"전환율 차이 (B-A): {diff:.3f}\")\n",
        "print(f\"차이의 표준오차: {se_diff:.3f}\")\n",
        "\n"
      ],
      "metadata": {
        "colab": {
          "base_uri": "https://localhost:8080/"
        },
        "id": "FXE5sDX9HfdO",
        "outputId": "1b0dd90f-8dc7-47bd-cb80-e677eb8dcf08"
      },
      "execution_count": 13,
      "outputs": [
        {
          "output_type": "stream",
          "name": "stdout",
          "text": [
            "전환율 차이 (B-A): -0.008\n",
            "차이의 표준오차: 0.020\n"
          ]
        }
      ]
    },
    {
      "cell_type": "code",
      "source": [
        "# TODO: 차이의 신뢰구간 하한 계산\n",
        "ci_diff_lower = diff - 1.96 * se_diff\n",
        "\n",
        "# TODO: 차이의 신뢰구간 상한 계산\n",
        "ci_diff_upper = diff + 1.96 * se_diff\n",
        "\n",
        "print(f\"전환율 차이의 95% 신뢰구간: [{ci_diff_lower:.3f}, {ci_diff_upper:.3f}]\")\n",
        "\n",
        "# TODO: 0이 포함되는지 확인하기\n",
        "if ci_diff_lower > 0:\n",
        "    print(\"🎉 B가 A보다 확실히 좋습니다!\")\n",
        "elif ci_diff_upper < 0:\n",
        "    print(\"😢 A가 B보다 확실히 좋습니다.\")\n",
        "else:\n",
        "    print(\"🤔 확실하지 않습니다.\")\n"
      ],
      "metadata": {
        "colab": {
          "base_uri": "https://localhost:8080/"
        },
        "id": "azCFOwxkHtDP",
        "outputId": "c1902b84-ec19-4b33-96bb-d3802c8e43bd"
      },
      "execution_count": 14,
      "outputs": [
        {
          "output_type": "stream",
          "name": "stdout",
          "text": [
            "전환율 차이의 95% 신뢰구간: [-0.048, 0.032]\n",
            "🤔 확실하지 않습니다.\n"
          ]
        }
      ]
    },
    {
      "cell_type": "code",
      "source": [
        "# TODO: 보고서 완성하기\n",
        "print(\"📋 경영진 보고서\")\n",
        "print(\"=\"*50)\n",
        "print(f\"🔍 분석 결과:\")\n",
        "print(f\"   • A그룹 전환율: {p_a:.1%}\")\n",
        "print(f\"   • B그룹 전환율: {p_b:.1%}\")\n",
        "print(f\"   • 개선 효과: {diff:.1%}p\")\n",
        "print()\n",
        "print(f\"📊 통계적 신뢰도:\")\n",
        "print(f\"   • 개선 효과 범위: {ci_diff_lower:.1%}p ~ {ci_diff_upper:.1%}p\")\n",
        "print()\n",
        "print(\"💡 의사결정:\")\n",
        "\n",
        "# TODO: if문을 사용해서 권장사항 작성하기\n",
        "# 힌트: ci_diff_lower > 0이면 새 디자인 도입 권장\n",
        "if ci_diff_lower > 0:\n",
        "    print(\"   ✅ 새 디자인(B) 도입을 권장합니다!\")\n",
        "else:\n",
        "    print(\"   ❌ 추가 데이터 수집이 필요합니다.\")"
      ],
      "metadata": {
        "colab": {
          "base_uri": "https://localhost:8080/"
        },
        "id": "W1ok08y7H_U9",
        "outputId": "2a3223d4-3ebf-4e81-a162-b15d06988c8f"
      },
      "execution_count": 16,
      "outputs": [
        {
          "output_type": "stream",
          "name": "stdout",
          "text": [
            "📋 경영진 보고서\n",
            "==================================================\n",
            "🔍 분석 결과:\n",
            "   • A그룹 전환율: 12.0%\n",
            "   • B그룹 전환율: 11.2%\n",
            "   • 개선 효과: -0.8%p\n",
            "\n",
            "📊 통계적 신뢰도:\n",
            "   • 개선 효과 범위: -4.8%p ~ 3.2%p\n",
            "\n",
            "💡 의사결정:\n",
            "   ❌ 추가 데이터 수집이 필요합니다.\n"
          ]
        }
      ]
    },
    {
      "cell_type": "code",
      "source": [
        "#문제2\n",
        "# 온라인 쇼핑몰의 구매 데이터\n",
        "np.random.seed(789)\n",
        "ages = np.random.randint(20, 60, 100)\n",
        "purchase_amounts = 50 + 2*ages + np.random.normal(0, 20, 100)\n",
        "\n",
        "print(\"📊 구매 데이터 미리보기\")\n",
        "print(f\"연령 범위: {ages.min()}세 ~ {ages.max()}세\")\n",
        "print(f\"구매금액 범위: {purchase_amounts.min():.0f}만원 ~ {purchase_amounts.max():.0f}만원\")\n",
        "print(f\"평균 구매금액: {purchase_amounts.mean():.1f}만원\")\n"
      ],
      "metadata": {
        "colab": {
          "base_uri": "https://localhost:8080/"
        },
        "id": "Td5vKr9MTek-",
        "outputId": "b1a4c395-51c1-45fa-ed4d-cd678a5459ef"
      },
      "execution_count": 17,
      "outputs": [
        {
          "output_type": "stream",
          "name": "stdout",
          "text": [
            "📊 구매 데이터 미리보기\n",
            "연령 범위: 20세 ~ 59세\n",
            "구매금액 범위: 39만원 ~ 208만원\n",
            "평균 구매금액: 130.1만원\n"
          ]
        }
      ]
    },
    {
      "cell_type": "code",
      "source": [
        "#2-1\n",
        "# TODO: 표본 평균 계산\n",
        "sample_mean = purchase_amounts.mean()\n",
        "\n",
        "# TODO: 표본 표준편차 계산\n",
        "sample_std = purchase_amounts.std(ddof=1)\n",
        "\n",
        "# TODO: 표본 크기 계산\n",
        "n = len(purchase_amounts)\n",
        "\n",
        "# TODO: 비교할 기준값 설정 (업계 기준 150만원)\n",
        "standard_value = 150\n",
        "\n",
        "print(f\"표본 평균: {sample_mean:.2f}만원\")\n",
        "print(f\"표본 표준편차: {sample_std:.2f}만원\")\n",
        "print(f\"표본 크기: {n}명\")\n",
        "print(f\"비교 기준값: {standard_value}만원\")\n"
      ],
      "metadata": {
        "colab": {
          "base_uri": "https://localhost:8080/"
        },
        "id": "zNkAyF1xTheV",
        "outputId": "df80bd3e-d9ff-4def-800c-08365d7cec42"
      },
      "execution_count": 18,
      "outputs": [
        {
          "output_type": "stream",
          "name": "stdout",
          "text": [
            "표본 평균: 130.09만원\n",
            "표본 표준편차: 33.90만원\n",
            "표본 크기: 100명\n",
            "비교 기준값: 150만원\n"
          ]
        }
      ]
    },
    {
      "cell_type": "code",
      "source": [
        "#2-2\n",
        "# TODO: t-통계량 공식 사용하기\n",
        "# 힌트: t = (표본평균 - 기준값) / (표준편차 / sqrt(n))\n",
        "t_stat = (sample_mean - standard_value) / (sample_std / np.sqrt(n))\n",
        "\n",
        "print(f\"직접 계산한 t-통계량: {t_stat:.3f}\")\n",
        "\n",
        "# 비교를 위해 scipy로도 계산해보기\n",
        "from scipy.stats import ttest_1samp\n",
        "t_stat_scipy, p_value = ttest_1samp(purchase_amounts, standard_value)\n",
        "print(f\"scipy로 계산한 t-통계량: {t_stat_scipy:.3f}\")\n",
        "print(f\"p-value: {p_value:.4f}\")\n"
      ],
      "metadata": {
        "colab": {
          "base_uri": "https://localhost:8080/"
        },
        "id": "JTEecAfUTzsa",
        "outputId": "26143ce8-c043-41b4-f45c-e0450b25661e"
      },
      "execution_count": 19,
      "outputs": [
        {
          "output_type": "stream",
          "name": "stdout",
          "text": [
            "직접 계산한 t-통계량: -5.874\n",
            "scipy로 계산한 t-통계량: -5.874\n",
            "p-value: 0.0000\n"
          ]
        }
      ]
    },
    {
      "cell_type": "code",
      "source": [
        "#2-3\n",
        "# TODO: 유의수준 설정\n",
        "alpha = 0.05\n",
        "\n",
        "print(\"🎯 결과 해석\")\n",
        "\n",
        "# TODO: p-value와 alpha 비교하기\n",
        "if p_value < alpha:\n",
        "    print(f\"✅ p-value ({p_value:.4f}) < α ({alpha})\")\n",
        "    print(\"→ 귀무가설 기각! 업계 기준과 유의하게 다릅니다.\")\n",
        "\n",
        "    # TODO: 평균이 더 큰지 작은지 확인하기\n",
        "    if sample_mean > standard_value:\n",
        "        print(\"→ 우리 고객들이 업계 평균보다 더 많이 구매합니다! 🎉\")\n",
        "    else:\n",
        "        print(\"→ 우리 고객들이 업계 평균보다 적게 구매합니다. 😅\")\n",
        "else:\n",
        "    print(f\"❌ p-value ({p_value:.4f}) ≥ α ({alpha})\")\n",
        "    print(\"→ 업계 기준과 유의한 차이가 없습니다.\")\n"
      ],
      "metadata": {
        "colab": {
          "base_uri": "https://localhost:8080/"
        },
        "id": "p_9_8QhbT7hi",
        "outputId": "3654c9bc-21e7-46c6-c70d-83473ca083e7"
      },
      "execution_count": 20,
      "outputs": [
        {
          "output_type": "stream",
          "name": "stdout",
          "text": [
            "🎯 결과 해석\n",
            "✅ p-value (0.0000) < α (0.05)\n",
            "→ 귀무가설 기각! 업계 기준과 유의하게 다릅니다.\n",
            "→ 우리 고객들이 업계 평균보다 적게 구매합니다. 😅\n"
          ]
        }
      ]
    },
    {
      "cell_type": "code",
      "source": [
        "#2-4\n",
        "import numpy as np\n",
        "import pandas as pd\n",
        "\n",
        "ages = np.random.randint(20, 60, size=100)\n",
        "purchase_amounts = np.random.normal(loc=150, scale=30, size=100)\n",
        "# TODO: 젊은층 데이터 필터링 (20-39세)\n",
        "young_mask = (ages >= 20) & (ages <= 39)\n",
        "group1_purchases = purchase_amounts[young_mask]\n",
        "\n",
        "# TODO: 중년층 데이터 필터링 (40-59세)\n",
        "middle_mask = (ages >= 40) & (ages <= 59)\n",
        "group2_purchases = purchase_amounts[middle_mask]\n",
        "\n",
        "print(\"👥 그룹 나누기 결과\")\n",
        "print(f\"젊은층 (20-39세): {len(group1_purchases)}명\")\n",
        "print(f\"중년층 (40-59세): {len(group2_purchases)}명\")\n"
      ],
      "metadata": {
        "colab": {
          "base_uri": "https://localhost:8080/"
        },
        "id": "FoY7qXOFUDAR",
        "outputId": "f6a8eca1-c722-4a95-d519-8973836590f7"
      },
      "execution_count": 5,
      "outputs": [
        {
          "output_type": "stream",
          "name": "stdout",
          "text": [
            "👥 그룹 나누기 결과\n",
            "젊은층 (20-39세): 59명\n",
            "중년층 (40-59세): 41명\n"
          ]
        }
      ]
    },
    {
      "cell_type": "code",
      "source": [
        "#2-5\n",
        "# TODO: 각 그룹의 평균 계산\n",
        "group1_mean = group1_purchases.mean()\n",
        "group2_mean = group2_purchases.mean()\n",
        "\n",
        "# TODO: 각 그룹의 표준편차 계산\n",
        "group1_std = group1_purchases.std()\n",
        "group2_std = group2_purchases.std()\n",
        "\n",
        "print(\"📊 그룹별 기술통계\")\n",
        "print(f\"젊은층 평균: {group1_mean:.1f}만원 (표준편차: {group1_std:.1f})\")\n",
        "print(f\"중년층 평균: {group2_mean:.1f}만원 (표준편차: {group2_std:.1f})\")\n",
        "\n",
        "# TODO: 평균 차이 계산\n",
        "diff = group2_mean - group1_mean\n",
        "print(f\"평균 차이: {diff:.1f}만원\")\n"
      ],
      "metadata": {
        "colab": {
          "base_uri": "https://localhost:8080/"
        },
        "id": "xQ6EPAq23Mnr",
        "outputId": "8110d6c2-da75-42cf-d720-8ef4fd33944d"
      },
      "execution_count": 6,
      "outputs": [
        {
          "output_type": "stream",
          "name": "stdout",
          "text": [
            "📊 그룹별 기술통계\n",
            "젊은층 평균: 149.1만원 (표준편차: 27.6)\n",
            "중년층 평균: 150.3만원 (표준편차: 28.4)\n",
            "평균 차이: 1.2만원\n"
          ]
        }
      ]
    },
    {
      "cell_type": "code",
      "source": [
        "#2-6\n",
        "from scipy.stats import ttest_ind\n",
        "\n",
        "# TODO: 독립표본 t-검정 실행\n",
        "t_stat, p_value = ttest_ind(group1_purchases, group2_purchases)\n",
        "\n",
        "print(\"🧮 t-검정 결과\")\n",
        "print(f\"t-통계량: {t_stat:.3f}\")\n",
        "print(f\"p-value: {p_value:.4f}\")\n",
        "\n",
        "# TODO: 결과 해석하기\n",
        "alpha = 0.05\n",
        "print(\"🎯 비즈니스 해석\")\n",
        "\n",
        "if p_value < alpha:\n",
        "    print(\"✅ 통계적으로 유의한 차이가 있습니다!\")\n",
        "\n",
        "    if group2_mean > group1_mean:\n",
        "        print(\"→ 중년층이 젊은층보다 더 많이 구매합니다!\")\n",
        "    else:\n",
        "        print(\"→ 젊은층이 중년층보다 더 많이 구매합니다!\")\n",
        "else:\n",
        "    print(\"❌ 통계적으로 유의한 차이가 없습니다.\")\n"
      ],
      "metadata": {
        "colab": {
          "base_uri": "https://localhost:8080/"
        },
        "id": "dyXp18u53T-F",
        "outputId": "723c629a-a50f-4956-ccdc-98a0dd5edabc"
      },
      "execution_count": 7,
      "outputs": [
        {
          "output_type": "stream",
          "name": "stdout",
          "text": [
            "🧮 t-검정 결과\n",
            "t-통계량: -0.200\n",
            "p-value: 0.8415\n",
            "🎯 비즈니스 해석\n",
            "❌ 통계적으로 유의한 차이가 없습니다.\n"
          ]
        }
      ]
    },
    {
      "cell_type": "code",
      "source": [
        "#2-7\n",
        "from scipy.stats import levene\n",
        "\n",
        "# TODO: 분산 직접 비교하기\n",
        "var1 = group1_purchases.var(ddof=1)\n",
        "var2 = group2_purchases.var(ddof=1)\n",
        "\n",
        "print(\"📊 분산 비교\")\n",
        "print(f\"젊은층 분산: {var1:.1f}\")\n",
        "print(f\"중년층 분산: {var2:.1f}\")\n",
        "\n",
        "# TODO: Levene 검정 실행하기\n",
        "levene_stat, levene_p = levene(group1_purchases, group2_purchases)\n",
        "\n",
        "print(\"🧪 Levene 등분산성 검정\")\n",
        "print(f\"p-value: {levene_p:.4f}\")\n",
        "\n",
        "# TODO: 등분산성 판단하기\n",
        "if levene_p >= 0.05:\n",
        "    print(\"✅ 등분산성 가정 만족\")\n",
        "else:\n",
        "    print(\"❌ 등분산성 가정 위배\")\n"
      ],
      "metadata": {
        "colab": {
          "base_uri": "https://localhost:8080/"
        },
        "id": "kE8KrH0T3dQo",
        "outputId": "61a87c7c-8a51-45eb-a5bb-aae9387953a3"
      },
      "execution_count": 8,
      "outputs": [
        {
          "output_type": "stream",
          "name": "stdout",
          "text": [
            "📊 분산 비교\n",
            "젊은층 분산: 777.2\n",
            "중년층 분산: 824.6\n",
            "🧪 Levene 등분산성 검정\n",
            "p-value: 0.9893\n",
            "✅ 등분산성 가정 만족\n"
          ]
        }
      ]
    },
    {
      "cell_type": "code",
      "source": [
        "#3\n",
        "# 직원 만족도 종합 데이터 생성\n",
        "np.random.seed(2024)\n",
        "n = 250\n",
        "\n",
        "data_hr = {\n",
        "    '연봉': np.random.lognormal(np.log(50000), 0.3, n),\n",
        "    '근무연수': np.random.exponential(3, n),\n",
        "    '부서': np.random.choice(['영업', '개발', '마케팅', '인사'], n, p=[0.3, 0.4, 0.2, 0.1]),\n",
        "    '교육시간': np.random.gamma(2, 10, n),\n",
        "    '직급': np.random.choice(['사원', '대리', '과장', '부장'], n, p=[0.4, 0.3, 0.2, 0.1])\n",
        "}\n",
        "\n",
        "df_hr = pd.DataFrame(data_hr)\n",
        "\n",
        "# 만족도 점수 (1-10점) 생성\n",
        "satisfaction_base = (\n",
        "    df_hr['연봉']/10000 * 0.8 +\n",
        "    df_hr['근무연수'] * 0.3 +\n",
        "    df_hr['교육시간'] * 0.1\n",
        ")\n",
        "\n",
        "dept_effect = df_hr['부서'].map({'영업': -0.5, '개발': 0.8, '마케팅': 0.3, '인사': 0.0})\n",
        "rank_effect = df_hr['직급'].map({'사원': 0, '대리': 0.5, '과장': 1.0, '부장': 1.5})\n",
        "\n",
        "satisfaction = satisfaction_base + dept_effect + rank_effect + np.random.normal(0, 0.8, n)\n",
        "satisfaction = np.clip(satisfaction, 1, 10)\n",
        "\n",
        "# 이직 의향\n",
        "turnover_prob = 1 / (1 + np.exp(satisfaction - 5))\n",
        "turnover_intent = np.random.binomial(1, turnover_prob, n)\n",
        "\n",
        "df_hr['만족도'] = satisfaction.round(1)\n",
        "df_hr['이직의향'] = turnover_intent\n",
        "\n",
        "print(\"📊 직원 만족도 데이터 (처음 5개 행)\")\n",
        "print(df_hr.head())\n"
      ],
      "metadata": {
        "colab": {
          "base_uri": "https://localhost:8080/"
        },
        "id": "JQ9I4crm3jeK",
        "outputId": "b153c539-6f15-4392-e17a-299bd3ac5676"
      },
      "execution_count": 13,
      "outputs": [
        {
          "output_type": "stream",
          "name": "stdout",
          "text": [
            "📊 직원 만족도 데이터 (처음 5개 행)\n",
            "             연봉      근무연수   부서       교육시간  직급   만족도  이직의향\n",
            "0  82470.215328  5.843045   개발   4.431883  과장  10.0     0\n",
            "1  62378.915363  1.803688   개발   1.373603  대리   8.2     0\n",
            "2  47066.508609  0.211051  마케팅  17.196300  과장   7.6     0\n",
            "3  47786.798588  4.785220   개발  49.198119  과장  10.0     0\n",
            "4  65814.392648  2.060981   영업  18.363062  사원   9.1     0\n"
          ]
        }
      ]
    },
    {
      "cell_type": "code",
      "source": [
        "#3-1\n",
        "# TODO: 숫자형 변수들만 선별하기\n",
        "numeric_cols = ['연봉', '근무연수', '교육시간', '만족도', '이직의향']\n",
        "correlation_data = df_hr[numeric_cols]\n",
        "\n",
        "# TODO: 상관계수 매트릭스 계산하기\n",
        "correlation_matrix = correlation_data.corr()\n",
        "\n",
        "print(\"📊 상관계수 매트릭스\")\n",
        "print(correlation_matrix.round(3))\n"
      ],
      "metadata": {
        "colab": {
          "base_uri": "https://localhost:8080/"
        },
        "id": "igve0uXiAXrS",
        "outputId": "c0b7382b-d7fd-46e9-a225-39643bca2a87"
      },
      "execution_count": 14,
      "outputs": [
        {
          "output_type": "stream",
          "name": "stdout",
          "text": [
            "📊 상관계수 매트릭스\n",
            "         연봉   근무연수   교육시간    만족도   이직의향\n",
            "연봉    1.000  0.101 -0.003  0.567 -0.265\n",
            "근무연수  0.101  1.000 -0.062  0.389 -0.130\n",
            "교육시간 -0.003 -0.062  1.000  0.484 -0.276\n",
            "만족도   0.567  0.389  0.484  1.000 -0.534\n",
            "이직의향 -0.265 -0.130 -0.276 -0.534  1.000\n"
          ]
        }
      ]
    },
    {
      "cell_type": "code",
      "source": [
        "#3-2\n",
        "# TODO: 만족도와의 상관관계만 추출하기\n",
        "satisfaction_corr = correlation_matrix['만족도'].sort_values(ascending=False)\n",
        "\n",
        "print(\"🎯 만족도와의 상관관계 (높은 순)\")\n",
        "\n",
        "# TODO: for문으로 각 변수별 상관관계 출력하기\n",
        "for var, corr in satisfaction_corr.items():\n",
        "    if var != '만족도':  # 만족도 자기 자신 제외\n",
        "        # TODO: 상관관계 강도 판단하기\n",
        "        if abs(corr) > 0.5:\n",
        "            strength = \"강한\"\n",
        "        elif abs(corr) > 0.3:\n",
        "            strength = \"중간\"\n",
        "        else:\n",
        "            strength = \"약한\"\n",
        "\n",
        "        direction = \"양의\" if corr > 0 else \"음의\"\n",
        "        print(f\"• {var}: {corr:.3f} ({strength} {direction} 상관관계)\")\n"
      ],
      "metadata": {
        "colab": {
          "base_uri": "https://localhost:8080/"
        },
        "id": "Vd_1KUbnAfPC",
        "outputId": "3ba57cbc-dd5b-40d6-cde5-d86f51f303b9"
      },
      "execution_count": 15,
      "outputs": [
        {
          "output_type": "stream",
          "name": "stdout",
          "text": [
            "🎯 만족도와의 상관관계 (높은 순)\n",
            "• 연봉: 0.567 (강한 양의 상관관계)\n",
            "• 교육시간: 0.484 (중간 양의 상관관계)\n",
            "• 근무연수: 0.389 (중간 양의 상관관계)\n",
            "• 이직의향: -0.534 (강한 음의 상관관계)\n"
          ]
        }
      ]
    },
    {
      "cell_type": "code",
      "source": [
        "#3-3\n",
        "\n",
        "# ✅ STEP 2: matplotlib에 폰트 적용\n",
        "import matplotlib.pyplot as plt\n",
        "import matplotlib.font_manager as fm\n",
        "import seaborn as sns\n",
        "import pandas as pd\n",
        "import numpy as np\n",
        "\n",
        "plt.rc('font', family='NanumGothic')  # 설치된 나눔고딕 폰트 지정\n",
        "plt.rcParams['axes.unicode_minus'] = False  # 마이너스 깨짐 방지\n",
        "\n",
        "# ✅ STEP 3: 예제 데이터 생성 (상관계수)\n",
        "np.random.seed(1)\n",
        "df = pd.DataFrame(np.random.randn(10, 5), columns=['A', 'B', 'C', 'D', 'E'])\n",
        "corr = df.corr()\n",
        "\n",
        "# ✅ STEP 4: 히트맵 그리기\n",
        "plt.figure(figsize=(8, 6))\n",
        "sns.heatmap(corr, annot=True, cmap='RdBu_r', center=0, fmt='.2f')\n",
        "plt.title('Heatmap of Variable Correlations')\n",
        "plt.tight_layout()\n",
        "plt.show()\n"
      ],
      "metadata": {
        "colab": {
          "base_uri": "https://localhost:8080/",
          "height": 1000
        },
        "id": "iFDqeW2_AoLY",
        "outputId": "a8d4bde2-dff6-48fc-b6e6-e2ecf7544959"
      },
      "execution_count": 17,
      "outputs": [
        {
          "output_type": "stream",
          "name": "stderr",
          "text": [
            "WARNING:matplotlib.font_manager:findfont: Font family 'NanumGothic' not found.\n",
            "WARNING:matplotlib.font_manager:findfont: Font family 'NanumGothic' not found.\n",
            "WARNING:matplotlib.font_manager:findfont: Font family 'NanumGothic' not found.\n",
            "WARNING:matplotlib.font_manager:findfont: Font family 'NanumGothic' not found.\n",
            "WARNING:matplotlib.font_manager:findfont: Font family 'NanumGothic' not found.\n",
            "WARNING:matplotlib.font_manager:findfont: Font family 'NanumGothic' not found.\n",
            "WARNING:matplotlib.font_manager:findfont: Font family 'NanumGothic' not found.\n",
            "WARNING:matplotlib.font_manager:findfont: Font family 'NanumGothic' not found.\n",
            "WARNING:matplotlib.font_manager:findfont: Font family 'NanumGothic' not found.\n",
            "WARNING:matplotlib.font_manager:findfont: Font family 'NanumGothic' not found.\n",
            "WARNING:matplotlib.font_manager:findfont: Font family 'NanumGothic' not found.\n",
            "WARNING:matplotlib.font_manager:findfont: Font family 'NanumGothic' not found.\n",
            "WARNING:matplotlib.font_manager:findfont: Font family 'NanumGothic' not found.\n",
            "WARNING:matplotlib.font_manager:findfont: Font family 'NanumGothic' not found.\n",
            "WARNING:matplotlib.font_manager:findfont: Font family 'NanumGothic' not found.\n",
            "WARNING:matplotlib.font_manager:findfont: Font family 'NanumGothic' not found.\n",
            "WARNING:matplotlib.font_manager:findfont: Font family 'NanumGothic' not found.\n",
            "WARNING:matplotlib.font_manager:findfont: Font family 'NanumGothic' not found.\n",
            "WARNING:matplotlib.font_manager:findfont: Font family 'NanumGothic' not found.\n",
            "WARNING:matplotlib.font_manager:findfont: Font family 'NanumGothic' not found.\n",
            "WARNING:matplotlib.font_manager:findfont: Font family 'NanumGothic' not found.\n",
            "WARNING:matplotlib.font_manager:findfont: Font family 'NanumGothic' not found.\n",
            "WARNING:matplotlib.font_manager:findfont: Font family 'NanumGothic' not found.\n",
            "WARNING:matplotlib.font_manager:findfont: Font family 'NanumGothic' not found.\n",
            "WARNING:matplotlib.font_manager:findfont: Font family 'NanumGothic' not found.\n",
            "WARNING:matplotlib.font_manager:findfont: Font family 'NanumGothic' not found.\n",
            "WARNING:matplotlib.font_manager:findfont: Font family 'NanumGothic' not found.\n",
            "WARNING:matplotlib.font_manager:findfont: Font family 'NanumGothic' not found.\n",
            "WARNING:matplotlib.font_manager:findfont: Font family 'NanumGothic' not found.\n",
            "WARNING:matplotlib.font_manager:findfont: Font family 'NanumGothic' not found.\n",
            "WARNING:matplotlib.font_manager:findfont: Font family 'NanumGothic' not found.\n",
            "WARNING:matplotlib.font_manager:findfont: Font family 'NanumGothic' not found.\n",
            "WARNING:matplotlib.font_manager:findfont: Font family 'NanumGothic' not found.\n",
            "WARNING:matplotlib.font_manager:findfont: Font family 'NanumGothic' not found.\n",
            "WARNING:matplotlib.font_manager:findfont: Font family 'NanumGothic' not found.\n",
            "WARNING:matplotlib.font_manager:findfont: Font family 'NanumGothic' not found.\n",
            "WARNING:matplotlib.font_manager:findfont: Font family 'NanumGothic' not found.\n",
            "WARNING:matplotlib.font_manager:findfont: Font family 'NanumGothic' not found.\n",
            "WARNING:matplotlib.font_manager:findfont: Font family 'NanumGothic' not found.\n",
            "WARNING:matplotlib.font_manager:findfont: Font family 'NanumGothic' not found.\n",
            "WARNING:matplotlib.font_manager:findfont: Font family 'NanumGothic' not found.\n",
            "WARNING:matplotlib.font_manager:findfont: Font family 'NanumGothic' not found.\n",
            "WARNING:matplotlib.font_manager:findfont: Font family 'NanumGothic' not found.\n",
            "WARNING:matplotlib.font_manager:findfont: Font family 'NanumGothic' not found.\n",
            "WARNING:matplotlib.font_manager:findfont: Font family 'NanumGothic' not found.\n",
            "WARNING:matplotlib.font_manager:findfont: Font family 'NanumGothic' not found.\n",
            "WARNING:matplotlib.font_manager:findfont: Font family 'NanumGothic' not found.\n",
            "WARNING:matplotlib.font_manager:findfont: Font family 'NanumGothic' not found.\n",
            "WARNING:matplotlib.font_manager:findfont: Font family 'NanumGothic' not found.\n",
            "WARNING:matplotlib.font_manager:findfont: Font family 'NanumGothic' not found.\n",
            "WARNING:matplotlib.font_manager:findfont: Font family 'NanumGothic' not found.\n",
            "WARNING:matplotlib.font_manager:findfont: Font family 'NanumGothic' not found.\n",
            "WARNING:matplotlib.font_manager:findfont: Font family 'NanumGothic' not found.\n",
            "WARNING:matplotlib.font_manager:findfont: Font family 'NanumGothic' not found.\n",
            "WARNING:matplotlib.font_manager:findfont: Font family 'NanumGothic' not found.\n",
            "WARNING:matplotlib.font_manager:findfont: Font family 'NanumGothic' not found.\n",
            "WARNING:matplotlib.font_manager:findfont: Font family 'NanumGothic' not found.\n",
            "WARNING:matplotlib.font_manager:findfont: Font family 'NanumGothic' not found.\n",
            "WARNING:matplotlib.font_manager:findfont: Font family 'NanumGothic' not found.\n",
            "WARNING:matplotlib.font_manager:findfont: Font family 'NanumGothic' not found.\n",
            "WARNING:matplotlib.font_manager:findfont: Font family 'NanumGothic' not found.\n",
            "WARNING:matplotlib.font_manager:findfont: Font family 'NanumGothic' not found.\n",
            "WARNING:matplotlib.font_manager:findfont: Font family 'NanumGothic' not found.\n",
            "WARNING:matplotlib.font_manager:findfont: Font family 'NanumGothic' not found.\n",
            "WARNING:matplotlib.font_manager:findfont: Font family 'NanumGothic' not found.\n",
            "WARNING:matplotlib.font_manager:findfont: Font family 'NanumGothic' not found.\n",
            "WARNING:matplotlib.font_manager:findfont: Font family 'NanumGothic' not found.\n",
            "WARNING:matplotlib.font_manager:findfont: Font family 'NanumGothic' not found.\n",
            "WARNING:matplotlib.font_manager:findfont: Font family 'NanumGothic' not found.\n",
            "WARNING:matplotlib.font_manager:findfont: Font family 'NanumGothic' not found.\n",
            "WARNING:matplotlib.font_manager:findfont: Font family 'NanumGothic' not found.\n",
            "WARNING:matplotlib.font_manager:findfont: Font family 'NanumGothic' not found.\n",
            "WARNING:matplotlib.font_manager:findfont: Font family 'NanumGothic' not found.\n",
            "WARNING:matplotlib.font_manager:findfont: Font family 'NanumGothic' not found.\n",
            "WARNING:matplotlib.font_manager:findfont: Font family 'NanumGothic' not found.\n",
            "WARNING:matplotlib.font_manager:findfont: Font family 'NanumGothic' not found.\n",
            "WARNING:matplotlib.font_manager:findfont: Font family 'NanumGothic' not found.\n",
            "WARNING:matplotlib.font_manager:findfont: Font family 'NanumGothic' not found.\n",
            "WARNING:matplotlib.font_manager:findfont: Font family 'NanumGothic' not found.\n",
            "WARNING:matplotlib.font_manager:findfont: Font family 'NanumGothic' not found.\n",
            "WARNING:matplotlib.font_manager:findfont: Font family 'NanumGothic' not found.\n",
            "WARNING:matplotlib.font_manager:findfont: Font family 'NanumGothic' not found.\n",
            "WARNING:matplotlib.font_manager:findfont: Font family 'NanumGothic' not found.\n",
            "WARNING:matplotlib.font_manager:findfont: Font family 'NanumGothic' not found.\n",
            "WARNING:matplotlib.font_manager:findfont: Font family 'NanumGothic' not found.\n",
            "WARNING:matplotlib.font_manager:findfont: Font family 'NanumGothic' not found.\n",
            "WARNING:matplotlib.font_manager:findfont: Font family 'NanumGothic' not found.\n",
            "WARNING:matplotlib.font_manager:findfont: Font family 'NanumGothic' not found.\n",
            "WARNING:matplotlib.font_manager:findfont: Font family 'NanumGothic' not found.\n",
            "WARNING:matplotlib.font_manager:findfont: Font family 'NanumGothic' not found.\n",
            "WARNING:matplotlib.font_manager:findfont: Font family 'NanumGothic' not found.\n",
            "WARNING:matplotlib.font_manager:findfont: Font family 'NanumGothic' not found.\n",
            "WARNING:matplotlib.font_manager:findfont: Font family 'NanumGothic' not found.\n",
            "WARNING:matplotlib.font_manager:findfont: Font family 'NanumGothic' not found.\n",
            "WARNING:matplotlib.font_manager:findfont: Font family 'NanumGothic' not found.\n",
            "WARNING:matplotlib.font_manager:findfont: Font family 'NanumGothic' not found.\n",
            "WARNING:matplotlib.font_manager:findfont: Font family 'NanumGothic' not found.\n",
            "WARNING:matplotlib.font_manager:findfont: Font family 'NanumGothic' not found.\n",
            "WARNING:matplotlib.font_manager:findfont: Font family 'NanumGothic' not found.\n",
            "WARNING:matplotlib.font_manager:findfont: Font family 'NanumGothic' not found.\n",
            "WARNING:matplotlib.font_manager:findfont: Font family 'NanumGothic' not found.\n",
            "WARNING:matplotlib.font_manager:findfont: Font family 'NanumGothic' not found.\n",
            "WARNING:matplotlib.font_manager:findfont: Font family 'NanumGothic' not found.\n",
            "WARNING:matplotlib.font_manager:findfont: Font family 'NanumGothic' not found.\n",
            "WARNING:matplotlib.font_manager:findfont: Font family 'NanumGothic' not found.\n",
            "WARNING:matplotlib.font_manager:findfont: Font family 'NanumGothic' not found.\n",
            "WARNING:matplotlib.font_manager:findfont: Font family 'NanumGothic' not found.\n",
            "WARNING:matplotlib.font_manager:findfont: Font family 'NanumGothic' not found.\n",
            "WARNING:matplotlib.font_manager:findfont: Font family 'NanumGothic' not found.\n",
            "WARNING:matplotlib.font_manager:findfont: Font family 'NanumGothic' not found.\n"
          ]
        },
        {
          "output_type": "display_data",
          "data": {
            "text/plain": [
              "<Figure size 800x600 with 2 Axes>"
            ],
            "image/png": "[encoded data removed]"
          },
          "metadata": {}
        }
      ]
    },
    {
      "cell_type": "code",
      "source": [
        "#3-4\n",
        "# TODO: 부서별 그룹화해서 평균 계산하기\n",
        "dept_summary = df_hr.groupby('부서')['만족도'].mean()\n",
        "\n",
        "print(\"🏢 부서별 평균 만족도\")\n",
        "print(dept_summary.round(2))\n",
        "\n",
        "# TODO: 부서별 이직의향도 계산하기\n",
        "dept_turnover = df_hr.groupby('부서')['이직의향'].mean()\n",
        "\n",
        "print(\"\\n🏢 부서별 이직의향\")\n",
        "print(dept_turnover.round(3))\n",
        "\n",
        "# TODO: for문으로 부서별 상세 분석 출력하기\n",
        "print(\"\\n📋 부서별 상세 분석\")\n",
        "for dept in df_hr['부서'].unique():\n",
        "    # TODO: 해당 부서 데이터만 필터링하기\n",
        "    dept_data = df_hr[df_hr['부서'] == dept]\n",
        "\n",
        "    satisfaction_avg = dept_data['만족도'].mean()\n",
        "    turnover_avg = dept_data['이직의향'].mean()\n",
        "\n",
        "    print(f\"{dept}부: 만족도 {satisfaction_avg:.1f}점, 이직의향 {turnover_avg:.1%}\")\n"
      ],
      "metadata": {
        "colab": {
          "base_uri": "https://localhost:8080/"
        },
        "id": "asqspWdLKWt3",
        "outputId": "cc06ca24-70a1-4a76-b939-30f3876bf48f"
      },
      "execution_count": 18,
      "outputs": [
        {
          "output_type": "stream",
          "name": "stdout",
          "text": [
            "🏢 부서별 평균 만족도\n",
            "부서\n",
            "개발     7.76\n",
            "마케팅    7.82\n",
            "영업     6.96\n",
            "인사     6.93\n",
            "Name: 만족도, dtype: float64\n",
            "\n",
            "🏢 부서별 이직의향\n",
            "부서\n",
            "개발     0.139\n",
            "마케팅    0.208\n",
            "영업     0.276\n",
            "인사     0.278\n",
            "Name: 이직의향, dtype: float64\n",
            "\n",
            "📋 부서별 상세 분석\n",
            "개발부: 만족도 7.8점, 이직의향 13.9%\n",
            "마케팅부: 만족도 7.8점, 이직의향 20.8%\n",
            "영업부: 만족도 7.0점, 이직의향 27.6%\n",
            "인사부: 만족도 6.9점, 이직의향 27.8%\n"
          ]
        }
      ]
    },
    {
      "cell_type": "code",
      "source": [
        "#3-5\n",
        "# TODO: 부서를 더미 변수로 변환하기\n",
        "dept_dummies = pd.get_dummies(df_hr['부서'], prefix='부서')\n",
        "\n",
        "# TODO: 직급을 더미 변수로 변환하기\n",
        "rank_dummies =  pd.get_dummies(df_hr['직급'], prefix='직급')\n",
        "\n",
        "# TODO: 기준 카테고리 제거하기 (다중공선성 방지)\n",
        "dept_dummies =  dept_dummies.drop('부서_인사', axis=1)\n",
        "rank_dummies = rank_dummies.drop('직급_사원', axis=1)\n",
        "\n",
        "print(\"생성된 더미 변수들:\")\n",
        "print(\"부서:\", list(dept_dummies.columns))\n",
        "print(\"직급:\", list(rank_dummies.columns))\n"
      ],
      "metadata": {
        "colab": {
          "base_uri": "https://localhost:8080/"
        },
        "id": "omiFn6MEKahk",
        "outputId": "f4c7935d-cb51-43d9-9d40-d729167fdf7f"
      },
      "execution_count": 19,
      "outputs": [
        {
          "output_type": "stream",
          "name": "stdout",
          "text": [
            "생성된 더미 변수들:\n",
            "부서: ['부서_개발', '부서_마케팅', '부서_영업']\n",
            "직급: ['직급_과장', '직급_대리', '직급_부장']\n"
          ]
        }
      ]
    },
    {
      "cell_type": "code",
      "source": [
        "#3-6\n",
        "from sklearn.linear_model import LinearRegression\n",
        "from sklearn.metrics import r2_score\n",
        "\n",
        "# TODO: 독립변수 데이터프레임 만들기\n",
        "X_vars = pd.concat([\n",
        "    df_hr[['연봉', '근무연수', '교육시간']],                         # 숫자형 변수\n",
        "    pd.get_dummies(df_hr[['부서', '직급']], drop_first=True)       # 범주형 변수 → 더미화 (drop_first로 다중공선성 방지)\n",
        "], axis=1)\n",
        "\n",
        "# TODO: 종속변수 설정하기\n",
        "y_var = df_hr['만족도']\n",
        "\n",
        "print(\"🔧 회귀분석 변수 구성\")\n",
        "print(f\"독립변수 개수: {len(X_vars.columns)}개\")\n",
        "print(f\"독립변수: {list(X_vars.columns)}\")\n",
        "print(f\"종속변수: 만족도\")\n",
        "\n"
      ],
      "metadata": {
        "colab": {
          "base_uri": "https://localhost:8080/"
        },
        "id": "0N3RJwpwaHVQ",
        "outputId": "c293fc53-115e-411f-858d-57f6b4fcc106"
      },
      "execution_count": 20,
      "outputs": [
        {
          "output_type": "stream",
          "name": "stdout",
          "text": [
            "🔧 회귀분석 변수 구성\n",
            "독립변수 개수: 9개\n",
            "독립변수: ['연봉', '근무연수', '교육시간', '부서_마케팅', '부서_영업', '부서_인사', '직급_대리', '직급_부장', '직급_사원']\n",
            "종속변수: 만족도\n"
          ]
        }
      ]
    },
    {
      "cell_type": "code",
      "source": [
        "#3-7\n",
        "# TODO: 회귀모델 생성 및 학습하기\n",
        "model = LinearRegression()\n",
        "model.fit(X_vars, y_var)\n",
        "\n",
        "# TODO: 예측값 계산하기\n",
        "y_pred = model.predict(X_vars)\n",
        "\n",
        "# TODO: R² 계산하기\n",
        "r2 = r2_score(y_var, y_pred)\n",
        "\n",
        "print(\"📊 다중회귀분석 결과\")\n",
        "print(f\"R² (설명력): {r2:.3f} ({r2*100:.1f}%)\")\n"
      ],
      "metadata": {
        "colab": {
          "base_uri": "https://localhost:8080/"
        },
        "id": "KiQj7381adjl",
        "outputId": "acacc75b-3f0b-4d74-ae31-f57451b1c50c"
      },
      "execution_count": 21,
      "outputs": [
        {
          "output_type": "stream",
          "name": "stdout",
          "text": [
            "📊 다중회귀분석 결과\n",
            "R² (설명력): 0.800 (80.0%)\n"
          ]
        }
      ]
    },
    {
      "cell_type": "code",
      "source": [
        "#3-8\n",
        "# TODO: 회귀계수를 데이터프레임으로 정리하기\n",
        "coefficients = pd.DataFrame({\n",
        "    '변수':  X_vars.columns,\n",
        "    '계수':  model.coef_,\n",
        "    '절댓값':  np.abs(model.coef_)\n",
        "})\n",
        "\n",
        "# TODO: 절댓값 기준으로 정렬하기\n",
        "coefficients =  coefficients.sort_values('절댓값', ascending=False)\n",
        "\n",
        "print(\"🔍 회귀계수 분석 (영향력 순)\")\n",
        "print(coefficients.head(5))  # 상위 5개만 출력\n",
        "\n",
        "# TODO: 가장 영향력이 큰 변수 찾기\n",
        "most_important = coefficients.iloc[0]\n",
        "print(f\"\\n가장 영향력이 큰 변수: {most_important['변수']} (계수: {most_important['계수']:.3f})\")\n"
      ],
      "metadata": {
        "colab": {
          "base_uri": "https://localhost:8080/"
        },
        "id": "7tcwcuNba5jT",
        "outputId": "8a43dfd2-4716-432c-f428-10582170bad7"
      },
      "execution_count": 22,
      "outputs": [
        {
          "output_type": "stream",
          "name": "stdout",
          "text": [
            "🔍 회귀계수 분석 (영향력 순)\n",
            "      변수        계수       절댓값\n",
            "4  부서_영업 -0.993424  0.993424\n",
            "8  직급_사원 -0.764017  0.764017\n",
            "7  직급_부장  0.629614  0.629614\n",
            "5  부서_인사 -0.497000  0.497000\n",
            "6  직급_대리 -0.438483  0.438483\n",
            "\n",
            "가장 영향력이 큰 변수: 부서_영업 (계수: -0.993)\n"
          ]
        }
      ]
    },
    {
      "cell_type": "code",
      "source": [
        "#3-9\n",
        "from sklearn.linear_model import LogisticRegression\n",
        "from sklearn.metrics import classification_report, confusion_matrix\n",
        "\n",
        "# TODO: 로지스틱 회귀용 독립변수와 종속변수 설정하기\n",
        "X_logistic = X_vars  # 위에서 만든 회귀분석용 독립변수와 동일\n",
        "y_logistic = df_hr['이직의향']  # 종속변수는 이진값 (0 or 1)\n",
        "\n",
        "# TODO: 현재 이직 의향 현황 파악하기\n",
        "turnover_summary = df_hr['이직의향'].value_counts()\n",
        "turnover_rate = df_hr['이직의향'].mean()\n",
        "\n",
        "print(\"📊 현재 이직 의향 현황\")\n",
        "print(f\"이직 의향 있음: {turnover_summary[1]}명 ({turnover_rate:.1%})\")\n",
        "print(f\"이직 의향 없음: {turnover_summary[0]}명 ({1-turnover_rate:.1%})\")\n",
        "\n"
      ],
      "metadata": {
        "colab": {
          "base_uri": "https://localhost:8080/"
        },
        "id": "oTmIBPXMbATX",
        "outputId": "88238bf4-bacd-409e-98f7-b715c8e01e28"
      },
      "execution_count": 23,
      "outputs": [
        {
          "output_type": "stream",
          "name": "stdout",
          "text": [
            "📊 현재 이직 의향 현황\n",
            "이직 의향 있음: 51명 (20.4%)\n",
            "이직 의향 없음: 199명 (79.6%)\n"
          ]
        }
      ]
    },
    {
      "cell_type": "code",
      "source": [
        "#3-10\n",
        "from sklearn.linear_model import LogisticRegression\n",
        "# TODO: 로지스틱 회귀 모델 생성하기\n",
        "logistic_model = LogisticRegression(random_state=42, max_iter=1000)\n",
        "\n",
        "# TODO: 모델 학습하기\n",
        "logistic_model.fit(X_logistic, y_logistic)\n",
        "\n",
        "# TODO: 이직 확률 예측하기\n",
        "y_pred_proba = logistic_model.predict_proba(X_logistic)[:, 1]\n",
        "\n",
        "# TODO: 이직 여부 예측하기 (0 또는 1)\n",
        "y_pred_class = logistic_model.predict(X_logistic)\n",
        "\n",
        "# TODO: 정확도 계산하기\n",
        "accuracy = (y_pred_class == y_logistic).mean()\n",
        "\n",
        "print(\"🤖 로지스틱 회귀 모델 성능\")\n",
        "print(f\"정확도: {accuracy:.3f}\")\n"
      ],
      "metadata": {
        "colab": {
          "base_uri": "https://localhost:8080/"
        },
        "id": "anpYsYtJbltg",
        "outputId": "4a828a44-66de-406e-8ba8-6f0a2513951f"
      },
      "execution_count": 25,
      "outputs": [
        {
          "output_type": "stream",
          "name": "stdout",
          "text": [
            "🤖 로지스틱 회귀 모델 성능\n",
            "정확도: 0.868\n"
          ]
        },
        {
          "output_type": "stream",
          "name": "stderr",
          "text": [
            "/usr/local/lib/python3.11/dist-packages/sklearn/linear_model/_logistic.py:465: ConvergenceWarning: lbfgs failed to converge (status=1):\n",
            "STOP: TOTAL NO. OF ITERATIONS REACHED LIMIT.\n",
            "\n",
            "Increase the number of iterations (max_iter) or scale the data as shown in:\n",
            "    https://scikit-learn.org/stable/modules/preprocessing.html\n",
            "Please also refer to the documentation for alternative solver options:\n",
            "    https://scikit-learn.org/stable/modules/linear_model.html#logistic-regression\n",
            "  n_iter_i = _check_optimize_result(\n"
          ]
        }
      ]
    },
    {
      "cell_type": "code",
      "source": [
        "#3-11\n",
        "# TODO: 혼동 행렬 계산하기\n",
        "cm = confusion_matrix(y_logistic, y_pred_class)\n",
        "\n",
        "print(\"📋 혼동 행렬\")\n",
        "print(\"실제 → 예측    이직안함  이직함\")\n",
        "print(f\"이직 안함        {cm[0,0]:3d}    {cm[0,1]:3d}\")\n",
        "print(f\"이직 함          {cm[1,0]:3d}    {cm[1,1]:3d}\")\n",
        "\n",
        "# TODO: 정밀도와 재현율 계산하기\n",
        "# 정밀도 = TP / (TP + FP)\n",
        "precision = cm[1,1] / (cm[1,1] + cm[0,1]) if (cm[1,1] + cm[0,1]) > 0 else 0\n",
        "\n",
        "# 재현율 = TP / (TP + FN)\n",
        "recall = cm[1,1] / (cm[1,1] + cm[1,0]) if (cm[1,1] + cm[1,0]) > 0 else 0\n",
        "\n",
        "print(f\"\\n정밀도: {precision:.3f}\")\n",
        "print(f\"재현율: {recall:.3f}\")\n"
      ],
      "metadata": {
        "colab": {
          "base_uri": "https://localhost:8080/"
        },
        "id": "xABr5R4Sqq9r",
        "outputId": "404ae630-a363-446c-9aaf-8e5107c24bfa"
      },
      "execution_count": 26,
      "outputs": [
        {
          "output_type": "stream",
          "name": "stdout",
          "text": [
            "📋 혼동 행렬\n",
            "실제 → 예측    이직안함  이직함\n",
            "이직 안함        194      5\n",
            "이직 함           28     23\n",
            "\n",
            "정밀도: 0.821\n",
            "재현율: 0.451\n"
          ]
        }
      ]
    },
    {
      "cell_type": "code",
      "source": [
        "#3-12\n",
        "# TODO: 오즈비 계산하기\n",
        "# 힌트: 오즈비 = exp(회귀계수)\n",
        "odds_ratios =  np.exp(logistic_model.coef_[0])\n",
        "\n",
        "# TODO: 오즈비 분석 데이터프레임 만들기\n",
        "odds_analysis = pd.DataFrame({\n",
        "    '변수':  X_logistic.columns,\n",
        "    '계수': logistic_model.coef_[0],\n",
        "    '오즈비': odds_ratios,\n",
        "    '위험도변화': [(or_val - 1) * 100 for or_val in odds_ratios]\n",
        "})\n",
        "\n",
        "# TODO: 위험도 변화가 큰 순으로 정렬하기\n",
        "odds_analysis =  odds_analysis.sort_values('위험도변화', key=abs, ascending=False)\n",
        "\n",
        "print(\"🎯 이직 위험 요인 분석 (상위 5개)\")\n",
        "print(odds_analysis.head())\n"
      ],
      "metadata": {
        "colab": {
          "base_uri": "https://localhost:8080/"
        },
        "id": "cIYiapVCq4ma",
        "outputId": "b30783de-2ced-46f8-a786-e9b2379df5e0"
      },
      "execution_count": 28,
      "outputs": [
        {
          "output_type": "stream",
          "name": "stdout",
          "text": [
            "🎯 이직 위험 요인 분석 (상위 5개)\n",
            "       변수        계수       오즈비       위험도변화\n",
            "8   직급_사원  1.120662  3.066883  206.688288\n",
            "4   부서_영업  0.974058  2.648670  164.866983\n",
            "3  부서_마케팅  0.689774  1.993265   99.326547\n",
            "5   부서_인사  0.454508  1.575398   57.539784\n",
            "6   직급_대리  0.245490  1.278248   27.824785\n"
          ]
        }
      ]
    },
    {
      "cell_type": "code",
      "source": [
        "#3-13\n",
        "# TODO: 고위험군 기준 설정하기 (70% 이상)\n",
        "high_risk_threshold =  0.7\n",
        "\n",
        "# TODO: 고위험군 직원 필터링하기\n",
        "high_risk_mask =  y_pred_proba > high_risk_threshold\n",
        "high_risk_employees =  df_hr[high_risk_mask]\n",
        "\n",
        "print(f\"🎯 이직 고위험군 식별\")\n",
        "print(f\"이직 확률 {high_risk_threshold:.0%} 이상 직원: {len(high_risk_employees)}명\")\n",
        "\n",
        "if len(high_risk_employees) > 0:\n",
        "    print(\"고위험군 특징:\")\n",
        "    # TODO: 고위험군의 평균 만족도 계산하기\n",
        "    avg_satisfaction = high_risk_employees['만족도'].mean()\n",
        "\n",
        "    # TODO: 고위험군의 평균 연봉 계산하기\n",
        "    avg_salary =  high_risk_employees['연봉'].mean()\n",
        "\n",
        "    print(f\"• 평균 만족도: {avg_satisfaction:.1f}점\")\n",
        "    print(f\"• 평균 연봉: {avg_salary/10000:.0f}만원\")\n"
      ],
      "metadata": {
        "colab": {
          "base_uri": "https://localhost:8080/"
        },
        "id": "T-6VlS9hrBI5",
        "outputId": "9c1488de-aeec-487b-c474-165be8c6f5dd"
      },
      "execution_count": 29,
      "outputs": [
        {
          "output_type": "stream",
          "name": "stdout",
          "text": [
            "🎯 이직 고위험군 식별\n",
            "이직 확률 70% 이상 직원: 12명\n",
            "고위험군 특징:\n",
            "• 평균 만족도: 3.8점\n",
            "• 평균 연봉: 3만원\n"
          ]
        }
      ]
    },
    {
      "cell_type": "code",
      "source": [
        "#3-14\n",
        "print(\"📋 CEO 보고서: 직원 만족도 및 이직 방지 전략\")\n",
        "print(\"=\" * 60)\n",
        "\n",
        "# TODO: 현황 요약 작성하기\n",
        "print(\"\\n📊 현황 요약\")\n",
        "print(f\"• 전체 직원 만족도: {df_hr['만족도'].mean():.1f}/10점\")\n",
        "print(f\"• 현재 이직 의향률: {df_hr['이직의향'].mean():.1%}\")\n",
        "print(f\"• 고위험군: {len(high_risk_employees)}명\")\n",
        "\n",
        "# TODO: 부서별 위험도 분석하기\n",
        "print(\"\\n🏢 부서별 위험도 분석\")\n",
        "dept_risk = df_hr.groupby('부서')['이직의향'].mean().sort_values(ascending=False)\n",
        "\n",
        "for dept, risk in dept_risk.items():\n",
        "    if risk > 0.3:  # 30% 이상이면 높은 위험\n",
        "        emoji = \"🔴\"\n",
        "        level = \"높음\"\n",
        "    elif risk > 0.15:  # 15% 이상이면 보통\n",
        "        emoji = \"🟡\"\n",
        "        level = \"보통\"\n",
        "    else:\n",
        "        emoji = \"🟢\"\n",
        "        level = \"낮음\"\n",
        "\n",
        "    print(f\"{emoji} {dept}부: 이직률 {risk:.1%} (위험도: {level})\")\n",
        "\n",
        "# TODO: 핵심 발견사항 정리하기\n",
        "print(f\"\\n💡 핵심 발견사항\")\n",
        "most_important_factor = coefficients.iloc[0]\n",
        "print(f\"1️⃣ 만족도에 가장 큰 영향: {most_important_factor['변수']}\")\n",
        "\n",
        "# TODO: 권장 액션 플랜 작성하기\n",
        "print(f\"\\n🎯 권장 액션 플랜\")\n",
        "highest_risk_dept = dept_risk.index[0]  # 가장 위험한 부서\n",
        "print(f\"🚨 즉시 조치 필요: {highest_risk_dept}부 집중 관리\")\n",
        "print(f\"💰 투자 우선순위: 만족도 개선 프로그램\")\n",
        "print(f\"📊 모니터링: 월별 만족도 조사 실시\")\n"
      ],
      "metadata": {
        "colab": {
          "base_uri": "https://localhost:8080/"
        },
        "id": "TPFBO7DzrHRw",
        "outputId": "21725831-aad3-4456-88d0-b91749603527"
      },
      "execution_count": 30,
      "outputs": [
        {
          "output_type": "stream",
          "name": "stdout",
          "text": [
            "📋 CEO 보고서: 직원 만족도 및 이직 방지 전략\n",
            "============================================================\n",
            "\n",
            "📊 현황 요약\n",
            "• 전체 직원 만족도: 7.5/10점\n",
            "• 현재 이직 의향률: 20.4%\n",
            "• 고위험군: 12명\n",
            "\n",
            "🏢 부서별 위험도 분석\n",
            "🟡 인사부: 이직률 27.8% (위험도: 보통)\n",
            "🟡 영업부: 이직률 27.6% (위험도: 보통)\n",
            "🟡 마케팅부: 이직률 20.8% (위험도: 보통)\n",
            "🟢 개발부: 이직률 13.9% (위험도: 낮음)\n",
            "\n",
            "💡 핵심 발견사항\n",
            "1️⃣ 만족도에 가장 큰 영향: 부서_영업\n",
            "\n",
            "🎯 권장 액션 플랜\n",
            "🚨 즉시 조치 필요: 인사부 집중 관리\n",
            "💰 투자 우선순위: 만족도 개선 프로그램\n",
            "📊 모니터링: 월별 만족도 조사 실시\n"
          ]
        }
      ]
    },
    {
      "cell_type": "code",
      "source": [],
      "metadata": {
        "id": "JQpJftiWrP6h"
      },
      "execution_count": null,
      "outputs": []
    }
  ],
  "metadata": {
    "colab": {
      "name": "Colab 시작하기",
      "provenance": []
    },
    "kernelspec": {
      "display_name": "Python 3",
      "name": "python3"
    }
  },
  "nbformat": 4,
  "nbformat_minor": 0
}